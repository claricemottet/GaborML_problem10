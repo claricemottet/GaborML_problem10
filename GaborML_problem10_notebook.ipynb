{
 "cells": [
  {
   "cell_type": "markdown",
   "metadata": {},
   "source": [
    "Gabor ML - Problem 10\n",
    "\n",
    "Outline:\n",
    "\n",
    "Functions:\n",
    "-Generate linearly separably data\n",
    "-Generate non-linearly separably data\n",
    "-Perceptron algorithm\n",
    "\n",
    "Uses:\n",
    "-test algorithm on different dimensions of data and types of data"
   ]
  },
  {
   "cell_type": "code",
   "execution_count": 2,
   "metadata": {},
   "outputs": [],
   "source": [
    "#Libraries\n",
    "\n",
    "import pandas as pd\n",
    "import numpy as np\n",
    "import random\n",
    "import matplotlib"
   ]
  },
  {
   "cell_type": "code",
   "execution_count": 13,
   "metadata": {},
   "outputs": [],
   "source": [
    "#Functions\n",
    "\n",
    "#Generate linearly separable data\n",
    "def generate_ls_data(a, d, n):\n",
    "    #a is a number in range [0,1]\n",
    "    #d is dimension of sample data\n",
    "    #n is number of sample points\n",
    "\n",
    "    \n",
    "\n",
    "    #x is a list of n numpy arrays\n",
    "    #y is a list of n corresponding {-1,1}\n",
    "\n",
    "    #determine y values with probability .5\n",
    "    probability_y_equals_1 = .5\n",
    "    y = [1 if random.random() >= probability_y_equals_1 else -1 for _ in range(n)]\n",
    "    x = []\n",
    "\n",
    "    #creates list of x iid sample vectors based on problem conditions\n",
    "    for i in range(n):\n",
    "        x_i = np.zeros(d)\n",
    "        for j in range(d):\n",
    "            #first element based on a\n",
    "            if j == 0:\n",
    "                if y[i] == 1:\n",
    "                    x_i[j] = random.uniform(-1,-a)\n",
    "                else:\n",
    "                    x_i[j] = random.uniform(a,1)\n",
    "            #other elements based on [-1,1]\n",
    "            else:\n",
    "                x_i[j] = random.uniform(-1,1)\n",
    "        x.append(x_i)        \n",
    "\n",
    "    return x, y\n",
    "\n",
    "def generate_nls_data(m, d, n):\n",
    "\n",
    "    #create y data\n",
    "    probability_y_equals_1 = .5\n",
    "    y = [1 if random.random() >= probability_y_equals_1 else -1 for _ in range(n)]\n",
    "\n",
    "    #create non-linearly separable data per problem description\n",
    "    mean = np.zeros(d)\n",
    "    mean[0] = m\n",
    "    cov = np.identity(d)\n",
    "    \n",
    "    x_arr = np.random.multivariate_normal(mean, cov, n)\n",
    "    x = [x_arr[i] for i in range(n)]\n",
    "\n",
    "    return x, y\n"
   ]
  },
  {
   "cell_type": "code",
   "execution_count": null,
   "metadata": {},
   "outputs": [],
   "source": [
    "a = .2\n",
    "d = 2\n",
    "n = 4\n",
    "\n",
    "x, y = generate_ls_data(a, d, n)"
   ]
  }
 ],
 "metadata": {
  "kernelspec": {
   "display_name": "Python 3",
   "language": "python",
   "name": "python3"
  },
  "language_info": {
   "codemirror_mode": {
    "name": "ipython",
    "version": 3
   },
   "file_extension": ".py",
   "mimetype": "text/x-python",
   "name": "python",
   "nbconvert_exporter": "python",
   "pygments_lexer": "ipython3",
   "version": "3.10.12"
  }
 },
 "nbformat": 4,
 "nbformat_minor": 2
}
